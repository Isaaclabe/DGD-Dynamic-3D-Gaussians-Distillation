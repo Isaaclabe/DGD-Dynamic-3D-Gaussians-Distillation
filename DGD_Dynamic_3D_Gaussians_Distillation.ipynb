{
  "nbformat": 4,
  "nbformat_minor": 0,
  "metadata": {
    "colab": {
      "provenance": [],
      "collapsed_sections": [
        "Ifiv7HVwrFwt",
        "95agiXSgrOOC",
        "k303IHSbrjsA",
        "MfKNF2Xf8wnZ"
      ],
      "gpuType": "A100"
    },
    "kernelspec": {
      "name": "python3",
      "display_name": "Python 3"
    },
    "language_info": {
      "name": "python"
    },
    "accelerator": "GPU"
  },
  "cells": [
    {
      "cell_type": "markdown",
      "source": [
        "# Load the repository and install librairies\n",
        "\n",
        "---\n",
        "\n"
      ],
      "metadata": {
        "id": "Ifiv7HVwrFwt"
      }
    },
    {
      "cell_type": "markdown",
      "source": [
        "We clone the repository of the main code,"
      ],
      "metadata": {
        "id": "F7CrytATaLXi"
      }
    },
    {
      "cell_type": "code",
      "source": [
        "import locale\n",
        "locale.getpreferredencoding = lambda: \"UTF-8\""
      ],
      "metadata": {
        "id": "6Mn0xJtoan2g"
      },
      "execution_count": 1,
      "outputs": []
    },
    {
      "cell_type": "code",
      "execution_count": null,
      "metadata": {
        "id": "Lw2bahZmqCe_"
      },
      "outputs": [],
      "source": [
        "!git clone https://github.com/Isaaclabe/DGD-Dynamic-3D-Gaussians-Distillation.git --recursive\n",
        "%cd /content/DGD-Dynamic-3D-Gaussians-Distillation"
      ]
    },
    {
      "cell_type": "markdown",
      "source": [
        "We install the libraries,"
      ],
      "metadata": {
        "id": "iff0hoKMasXd"
      }
    },
    {
      "cell_type": "code",
      "source": [
        "!pip install -q plyfile\n",
        "!pip install git+https://github.com/openai/CLIP.git\n",
        "!pip install timm\n",
        "!pip install -r /content/DGD-Dynamic-3D-Gaussians-Distillation/requirements.txt"
      ],
      "metadata": {
        "id": "IV2ErEvLqRvz"
      },
      "execution_count": null,
      "outputs": []
    },
    {
      "cell_type": "markdown",
      "source": [
        "# Setup the libraries for the differentiable Gaussian Rasterizer, simple Knn algorithm and the Lseg minimal model\n",
        "\n",
        "---"
      ],
      "metadata": {
        "id": "95agiXSgrOOC"
      }
    },
    {
      "cell_type": "code",
      "source": [
        "import shutil\n",
        "import os"
      ],
      "metadata": {
        "id": "uzKg1ZeSa_8P"
      },
      "execution_count": 6,
      "outputs": []
    },
    {
      "cell_type": "markdown",
      "source": [
        "Setup for the differentiable Gaussian Rasterizer, if you want to use the DINOv2 foundation model you need to set NUM_SEMANTIC_CHANNELS = 384 in the file: /content/DGD-Dynamic-3D-Gaussians-Distillation/submodules/diff-gaussian-rasterization/cuda_rasterizer/config.h. But if you want to use the Lseg-CLIP foundation model you need to put NUM_SEMANTIC_CHANNELS = 512.\n"
      ],
      "metadata": {
        "id": "Ba2Fge39a77S"
      }
    },
    {
      "cell_type": "code",
      "source": [
        "%cd /content/DGD-Dynamic-3D-Gaussians-Distillation/submodules/diff-gaussian-rasterization\n",
        "!python setup.py build_ext"
      ],
      "metadata": {
        "id": "HgRnBMflrEz2"
      },
      "execution_count": null,
      "outputs": []
    },
    {
      "cell_type": "code",
      "source": [
        "os.makedirs(\"/content/DGD-Dynamic-3D-Gaussians-Distillation/diff_gaussian_rasterization\", exist_ok=True)\n",
        "source_path_1 = \"/content/DGD-Dynamic-3D-Gaussians-Distillation/submodules/diff-gaussian-rasterization/build/lib.linux-x86_64-cpython-310/diff_gaussian_rasterization/_C.cpython-310-x86_64-linux-gnu.so\"\n",
        "source_path_2 = \"/content/DGD-Dynamic-3D-Gaussians-Distillation/submodules/diff-gaussian-rasterization/diff_gaussian_rasterization/__init__.py\"\n",
        "destination_folder_1 = \"/content/DGD-Dynamic-3D-Gaussians-Distillation/diff_gaussian_rasterization\"\n",
        "shutil.move(source_path_1, destination_folder_1)\n",
        "shutil.move(source_path_2, destination_folder_1)"
      ],
      "metadata": {
        "id": "GNHtObh0rbYe"
      },
      "execution_count": null,
      "outputs": []
    },
    {
      "cell_type": "markdown",
      "source": [
        "Setup for the simple Knn algorithm,\n"
      ],
      "metadata": {
        "id": "Bt4jWKptbQEZ"
      }
    },
    {
      "cell_type": "code",
      "source": [
        "%cd /content/DGD-Dynamic-3D-Gaussians-Distillation/submodules/simple-knn\n",
        "!python setup_knn.py build_ext"
      ],
      "metadata": {
        "id": "D1vXXNfvmRj7"
      },
      "execution_count": null,
      "outputs": []
    },
    {
      "cell_type": "code",
      "source": [
        "os.makedirs(\"/content/DGD-Dynamic-3D-Gaussians-Distillation/simple_knn\", exist_ok=True)\n",
        "source_path_3 = \"/content/DGD-Dynamic-3D-Gaussians-Distillation/submodules/simple-knn/build/lib.linux-x86_64-cpython-310/simple_knn/_C.cpython-310-x86_64-linux-gnu.so\"\n",
        "destination_folder_2 = \"/content/DGD-Dynamic-3D-Gaussians-Distillation/simple_knn\"\n",
        "shutil.move(source_path_3, destination_folder_2)"
      ],
      "metadata": {
        "id": "ZtT-KYnZrbV-"
      },
      "execution_count": null,
      "outputs": []
    },
    {
      "cell_type": "markdown",
      "source": [
        "Setup for the Lseg minimal model,\n"
      ],
      "metadata": {
        "id": "ckA0YvFwblFz"
      }
    },
    {
      "cell_type": "code",
      "source": [
        "%cd /content/DGD-Dynamic-3D-Gaussians-Distillation/lseg_minimal\n",
        "!python setup.py build develop\n",
        "!rm -r /content/DGD-Dynamic-3D-Gaussians-Distillation/lseg_minimal/lseg\n",
        "!mv /content/DGD-Dynamic-3D-Gaussians-Distillation/lseg_minimal/build/lib/lseg/ /content/DGD-Dynamic-3D-Gaussians-Distillation/lseg_minimal/\n",
        "!rm -r /content/DGD-Dynamic-3D-Gaussians-Distillation/lseg_minimal/build"
      ],
      "metadata": {
        "id": "RJKKImxb7NHa"
      },
      "execution_count": null,
      "outputs": []
    },
    {
      "cell_type": "markdown",
      "source": [
        "We donwload the Lseg-minimal model,"
      ],
      "metadata": {
        "id": "pkfXcaeibooK"
      }
    },
    {
      "cell_type": "code",
      "source": [
        "!git clone https://huggingface.co/IsaacLabe/Lseg_minimal_model"
      ],
      "metadata": {
        "id": "oP12BIZpbjqO"
      },
      "execution_count": null,
      "outputs": []
    },
    {
      "cell_type": "markdown",
      "source": [
        "# Load the datasets\n",
        "\n",
        "---\n",
        "\n"
      ],
      "metadata": {
        "id": "k303IHSbrjsA"
      }
    },
    {
      "cell_type": "code",
      "source": [
        "%cd /content/DGD-Dynamic-3D-Gaussians-Distillation\n",
        "\n",
        "!git clone https://huggingface.co/IsaacLabe/data_hyperNerf\n",
        "!unzip /content/DGD-Dynamic-3D-Gaussians-Distillation/data_hyperNerf/misc_split-cookie.zip"
      ],
      "metadata": {
        "id": "mnlxwQZ6rsto"
      },
      "execution_count": null,
      "outputs": []
    },
    {
      "cell_type": "markdown",
      "source": [
        "# Train\n",
        "\n",
        "---\n",
        "\n"
      ],
      "metadata": {
        "id": "kAk2xJXHs3nT"
      }
    },
    {
      "cell_type": "markdown",
      "source": [
        "Use the DINOv2 foundation model,"
      ],
      "metadata": {
        "id": "ORbjYmjsdGCY"
      }
    },
    {
      "cell_type": "code",
      "source": [
        "!python train.py -s \"/content/DGD-Dynamic-3D-Gaussians-Distillation/split-cookie\" -m \"/content/DGD-Dynamic-3D-Gaussians-Distillation/\" --fundation_model \"DINOv2\" --semantic_dimension 384"
      ],
      "metadata": {
        "id": "KsuuZBULs6Zd"
      },
      "execution_count": null,
      "outputs": []
    },
    {
      "cell_type": "markdown",
      "source": [
        "Use the Lseg-CLIP foundation model,"
      ],
      "metadata": {
        "id": "n3aHOr4zdZ2Z"
      }
    },
    {
      "cell_type": "code",
      "source": [
        "!python train.py -s \"/content/DGD-Dynamic-3D-Gaussians-Distillation/split-cookie\" -m \"/content/DGD-Dynamic-3D-Gaussians-Distillation/\" --Lseg_model_path \"/content/DGD-Dynamic-3D-Gaussians-Distillation/lseg_minimal/Lseg_minimal_model/lseg_minimal_e200.ckpt\" --fundation_model \"Lseg_CLIP\" --semantic_dimension 512 --loss_reduce 10"
      ],
      "metadata": {
        "id": "w6ocueBn7LRi"
      },
      "execution_count": null,
      "outputs": []
    },
    {
      "cell_type": "markdown",
      "source": [
        "# Render\n",
        "\n",
        "---\n",
        "\n"
      ],
      "metadata": {
        "id": "MfKNF2Xf8wnZ"
      }
    },
    {
      "cell_type": "markdown",
      "source": [
        "Use the DINOv2 foundation model,"
      ],
      "metadata": {
        "id": "tYM8yZQpdiuD"
      }
    },
    {
      "cell_type": "code",
      "source": [
        "!python render.py -s \"/content/DGD-Dynamic-3D-Gaussians-Distillation/split-cookie\" -m \"/content/DGD-Dynamic-3D-Gaussians-Distillation/\" --fundation_model \"DINOv2\" --semantic_dimension 384 --iterations 40_000 --frame 539 --novel_views -1 --points \"(270,370)\" \"(200,450)\" --thetas \"0.55\" \"0.7\""
      ],
      "metadata": {
        "id": "PXmMcBrEtUWD"
      },
      "execution_count": null,
      "outputs": []
    },
    {
      "cell_type": "markdown",
      "source": [
        "Use the Lseg-CLIP foundation model,"
      ],
      "metadata": {
        "id": "JZ--weBedupW"
      }
    },
    {
      "cell_type": "code",
      "source": [
        "!python render.py -s \"/content/DGD-Dynamic-3D-Gaussians-Distillation/split-cookie\" -m \"/content/DGD-Dynamic-3D-Gaussians-Distillation/\" --Lseg_model_path \"/content/DGD-Dynamic-3D-Gaussians-Distillation/lseg_minimal/Lseg_minimal_model/lseg_minimal_e200.ckpt\" --fundation_model \"Lseg_CLIP\" --semantic_dimension 384 --iterations 40_000 --frame 539 --novel_views 100 --prompt \"Cookie\" --thetas \"0.55\""
      ],
      "metadata": {
        "id": "UystzmTa8zFk"
      },
      "execution_count": null,
      "outputs": []
    }
  ]
}